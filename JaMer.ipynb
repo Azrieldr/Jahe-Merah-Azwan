{
 "cells": [
  {
   "cell_type": "code",
   "execution_count": 1,
   "metadata": {},
   "outputs": [],
   "source": [
    "import numpy\n",
    "import pandas as pd\n",
    "import matplotlib.pyplot as plt"
   ]
  },
  {
   "cell_type": "code",
   "execution_count": 2,
   "metadata": {},
   "outputs": [
    {
     "data": {
      "text/html": [
       "<div>\n",
       "<style scoped>\n",
       "    .dataframe tbody tr th:only-of-type {\n",
       "        vertical-align: middle;\n",
       "    }\n",
       "\n",
       "    .dataframe tbody tr th {\n",
       "        vertical-align: top;\n",
       "    }\n",
       "\n",
       "    .dataframe thead th {\n",
       "        text-align: right;\n",
       "    }\n",
       "</style>\n",
       "<table border=\"1\" class=\"dataframe\">\n",
       "  <thead>\n",
       "    <tr style=\"text-align: right;\">\n",
       "      <th></th>\n",
       "      <th>No.</th>\n",
       "      <th>Tanggal</th>\n",
       "      <th>Hari</th>\n",
       "      <th>Nama Produk</th>\n",
       "      <th>Ukuran</th>\n",
       "      <th>Qty</th>\n",
       "      <th>Harga (Rp)</th>\n",
       "      <th>Penjual</th>\n",
       "      <th>Via</th>\n",
       "      <th>Keterangan</th>\n",
       "      <th>Pembeli</th>\n",
       "      <th>Usia (Thn)</th>\n",
       "      <th>Domisili</th>\n",
       "    </tr>\n",
       "  </thead>\n",
       "  <tbody>\n",
       "    <tr>\n",
       "      <th>0</th>\n",
       "      <td>1</td>\n",
       "      <td>2023-10-09</td>\n",
       "      <td>Senin</td>\n",
       "      <td>Jahe Merah plus Habatussauda</td>\n",
       "      <td>100gr</td>\n",
       "      <td>1</td>\n",
       "      <td>15000</td>\n",
       "      <td>Aji</td>\n",
       "      <td>Online</td>\n",
       "      <td>Done</td>\n",
       "      <td>Bunga</td>\n",
       "      <td>&gt;20</td>\n",
       "      <td>Tangsel</td>\n",
       "    </tr>\n",
       "    <tr>\n",
       "      <th>1</th>\n",
       "      <td>2</td>\n",
       "      <td>2023-10-09</td>\n",
       "      <td>Senin</td>\n",
       "      <td>Jahe Merah plus Habatussauda</td>\n",
       "      <td>100gr</td>\n",
       "      <td>1</td>\n",
       "      <td>15000</td>\n",
       "      <td>Aji</td>\n",
       "      <td>Online</td>\n",
       "      <td>Done</td>\n",
       "      <td>aulia</td>\n",
       "      <td>&gt;20</td>\n",
       "      <td>Tangsel</td>\n",
       "    </tr>\n",
       "    <tr>\n",
       "      <th>2</th>\n",
       "      <td>3</td>\n",
       "      <td>2023-10-09</td>\n",
       "      <td>Senin</td>\n",
       "      <td>Jahe Merah plus Habatussauda</td>\n",
       "      <td>100gr</td>\n",
       "      <td>1</td>\n",
       "      <td>15000</td>\n",
       "      <td>Mega</td>\n",
       "      <td>Offline</td>\n",
       "      <td>Done</td>\n",
       "      <td>Dayah</td>\n",
       "      <td>20-29</td>\n",
       "      <td>Tangsel</td>\n",
       "    </tr>\n",
       "    <tr>\n",
       "      <th>3</th>\n",
       "      <td>4</td>\n",
       "      <td>2023-10-09</td>\n",
       "      <td>Senin</td>\n",
       "      <td>Jahe Merah plus Habatussauda</td>\n",
       "      <td>330gr</td>\n",
       "      <td>1</td>\n",
       "      <td>30000</td>\n",
       "      <td>Mega</td>\n",
       "      <td>Online</td>\n",
       "      <td>Done</td>\n",
       "      <td>Mirrah</td>\n",
       "      <td>30-39</td>\n",
       "      <td>Jakarta</td>\n",
       "    </tr>\n",
       "    <tr>\n",
       "      <th>4</th>\n",
       "      <td>5</td>\n",
       "      <td>2023-10-10</td>\n",
       "      <td>Selasa</td>\n",
       "      <td>Jahe Merah plus Habatussauda</td>\n",
       "      <td>330gr</td>\n",
       "      <td>1</td>\n",
       "      <td>30000</td>\n",
       "      <td>Mega</td>\n",
       "      <td>Online</td>\n",
       "      <td>Done</td>\n",
       "      <td>Fenny</td>\n",
       "      <td>30-39</td>\n",
       "      <td>Depok</td>\n",
       "    </tr>\n",
       "  </tbody>\n",
       "</table>\n",
       "</div>"
      ],
      "text/plain": [
       "   No.    Tanggal    Hari                   Nama Produk Ukuran  Qty  \\\n",
       "0    1 2023-10-09   Senin  Jahe Merah plus Habatussauda  100gr    1   \n",
       "1    2 2023-10-09   Senin  Jahe Merah plus Habatussauda  100gr    1   \n",
       "2    3 2023-10-09   Senin  Jahe Merah plus Habatussauda  100gr    1   \n",
       "3    4 2023-10-09   Senin  Jahe Merah plus Habatussauda  330gr    1   \n",
       "4    5 2023-10-10  Selasa  Jahe Merah plus Habatussauda  330gr    1   \n",
       "\n",
       "   Harga (Rp) Penjual      Via Keterangan Pembeli Usia (Thn) Domisili  \n",
       "0       15000     Aji   Online       Done   Bunga       >20   Tangsel  \n",
       "1       15000     Aji   Online       Done   aulia       >20   Tangsel  \n",
       "2       15000    Mega  Offline       Done   Dayah      20-29  Tangsel  \n",
       "3       30000    Mega   Online       Done  Mirrah      30-39  Jakarta  \n",
       "4       30000    Mega   Online       Done   Fenny      30-39    Depok  "
      ]
     },
     "execution_count": 2,
     "metadata": {},
     "output_type": "execute_result"
    }
   ],
   "source": [
    "# Replace 'your_file.csv' with the actual file path\n",
    "df = pd.read_excel('jahe merah.xlsx',)\n",
    "\n",
    "# Display the DataFrame\n",
    "df.head(5)"
   ]
  },
  {
   "cell_type": "code",
   "execution_count": 3,
   "metadata": {},
   "outputs": [
    {
     "data": {
      "text/html": [
       "<div>\n",
       "<style scoped>\n",
       "    .dataframe tbody tr th:only-of-type {\n",
       "        vertical-align: middle;\n",
       "    }\n",
       "\n",
       "    .dataframe tbody tr th {\n",
       "        vertical-align: top;\n",
       "    }\n",
       "\n",
       "    .dataframe thead th {\n",
       "        text-align: right;\n",
       "    }\n",
       "</style>\n",
       "<table border=\"1\" class=\"dataframe\">\n",
       "  <thead>\n",
       "    <tr style=\"text-align: right;\">\n",
       "      <th></th>\n",
       "      <th>No.</th>\n",
       "      <th>Tanggal</th>\n",
       "      <th>Hari</th>\n",
       "      <th>Nama Produk</th>\n",
       "      <th>Ukuran</th>\n",
       "      <th>Qty</th>\n",
       "      <th>Harga (Rp)</th>\n",
       "      <th>Penjual</th>\n",
       "      <th>Via</th>\n",
       "      <th>Keterangan</th>\n",
       "      <th>Pembeli</th>\n",
       "      <th>Usia (Thn)</th>\n",
       "      <th>Domisili</th>\n",
       "      <th>Product Type</th>\n",
       "    </tr>\n",
       "  </thead>\n",
       "  <tbody>\n",
       "    <tr>\n",
       "      <th>0</th>\n",
       "      <td>1</td>\n",
       "      <td>2023-10-09</td>\n",
       "      <td>Senin</td>\n",
       "      <td>Jahe Merah plus Habatussauda</td>\n",
       "      <td>100gr</td>\n",
       "      <td>1</td>\n",
       "      <td>15000</td>\n",
       "      <td>Aji</td>\n",
       "      <td>Online</td>\n",
       "      <td>Done</td>\n",
       "      <td>Bunga</td>\n",
       "      <td>&gt;20</td>\n",
       "      <td>Tangsel</td>\n",
       "      <td>Jahe Merah plus Habatussauda 100gr</td>\n",
       "    </tr>\n",
       "    <tr>\n",
       "      <th>1</th>\n",
       "      <td>2</td>\n",
       "      <td>2023-10-09</td>\n",
       "      <td>Senin</td>\n",
       "      <td>Jahe Merah plus Habatussauda</td>\n",
       "      <td>100gr</td>\n",
       "      <td>1</td>\n",
       "      <td>15000</td>\n",
       "      <td>Aji</td>\n",
       "      <td>Online</td>\n",
       "      <td>Done</td>\n",
       "      <td>aulia</td>\n",
       "      <td>&gt;20</td>\n",
       "      <td>Tangsel</td>\n",
       "      <td>Jahe Merah plus Habatussauda 100gr</td>\n",
       "    </tr>\n",
       "    <tr>\n",
       "      <th>2</th>\n",
       "      <td>3</td>\n",
       "      <td>2023-10-09</td>\n",
       "      <td>Senin</td>\n",
       "      <td>Jahe Merah plus Habatussauda</td>\n",
       "      <td>100gr</td>\n",
       "      <td>1</td>\n",
       "      <td>15000</td>\n",
       "      <td>Mega</td>\n",
       "      <td>Offline</td>\n",
       "      <td>Done</td>\n",
       "      <td>Dayah</td>\n",
       "      <td>20-29</td>\n",
       "      <td>Tangsel</td>\n",
       "      <td>Jahe Merah plus Habatussauda 100gr</td>\n",
       "    </tr>\n",
       "    <tr>\n",
       "      <th>3</th>\n",
       "      <td>4</td>\n",
       "      <td>2023-10-09</td>\n",
       "      <td>Senin</td>\n",
       "      <td>Jahe Merah plus Habatussauda</td>\n",
       "      <td>330gr</td>\n",
       "      <td>1</td>\n",
       "      <td>30000</td>\n",
       "      <td>Mega</td>\n",
       "      <td>Online</td>\n",
       "      <td>Done</td>\n",
       "      <td>Mirrah</td>\n",
       "      <td>30-39</td>\n",
       "      <td>Jakarta</td>\n",
       "      <td>Jahe Merah plus Habatussauda 330gr</td>\n",
       "    </tr>\n",
       "    <tr>\n",
       "      <th>4</th>\n",
       "      <td>5</td>\n",
       "      <td>2023-10-10</td>\n",
       "      <td>Selasa</td>\n",
       "      <td>Jahe Merah plus Habatussauda</td>\n",
       "      <td>330gr</td>\n",
       "      <td>1</td>\n",
       "      <td>30000</td>\n",
       "      <td>Mega</td>\n",
       "      <td>Online</td>\n",
       "      <td>Done</td>\n",
       "      <td>Fenny</td>\n",
       "      <td>30-39</td>\n",
       "      <td>Depok</td>\n",
       "      <td>Jahe Merah plus Habatussauda 330gr</td>\n",
       "    </tr>\n",
       "  </tbody>\n",
       "</table>\n",
       "</div>"
      ],
      "text/plain": [
       "   No.    Tanggal    Hari                   Nama Produk Ukuran  Qty  \\\n",
       "0    1 2023-10-09   Senin  Jahe Merah plus Habatussauda  100gr    1   \n",
       "1    2 2023-10-09   Senin  Jahe Merah plus Habatussauda  100gr    1   \n",
       "2    3 2023-10-09   Senin  Jahe Merah plus Habatussauda  100gr    1   \n",
       "3    4 2023-10-09   Senin  Jahe Merah plus Habatussauda  330gr    1   \n",
       "4    5 2023-10-10  Selasa  Jahe Merah plus Habatussauda  330gr    1   \n",
       "\n",
       "   Harga (Rp) Penjual      Via Keterangan Pembeli Usia (Thn) Domisili  \\\n",
       "0       15000     Aji   Online       Done   Bunga       >20   Tangsel   \n",
       "1       15000     Aji   Online       Done   aulia       >20   Tangsel   \n",
       "2       15000    Mega  Offline       Done   Dayah      20-29  Tangsel   \n",
       "3       30000    Mega   Online       Done  Mirrah      30-39  Jakarta   \n",
       "4       30000    Mega   Online       Done   Fenny      30-39    Depok   \n",
       "\n",
       "                         Product Type  \n",
       "0  Jahe Merah plus Habatussauda 100gr  \n",
       "1  Jahe Merah plus Habatussauda 100gr  \n",
       "2  Jahe Merah plus Habatussauda 100gr  \n",
       "3  Jahe Merah plus Habatussauda 330gr  \n",
       "4  Jahe Merah plus Habatussauda 330gr  "
      ]
     },
     "execution_count": 3,
     "metadata": {},
     "output_type": "execute_result"
    }
   ],
   "source": [
    "df1=df.copy()\n",
    "df1['Product Type']=df['Nama Produk'] + ' ' + df['Ukuran']\n",
    "df1.head(5)"
   ]
  },
  {
   "cell_type": "code",
   "execution_count": 4,
   "metadata": {},
   "outputs": [
    {
     "name": "stdout",
     "output_type": "stream",
     "text": [
      "['No.', 'Tanggal', 'Hari', 'Nama Produk', 'Ukuran', 'Qty', 'Harga (Rp)', 'Penjual', 'Via', 'Keterangan', 'Pembeli', 'Usia (Thn)', 'Domisili']\n"
     ]
    }
   ],
   "source": [
    "column_names_list = list(df.columns)\n",
    "print(column_names_list)"
   ]
  },
  {
   "cell_type": "code",
   "execution_count": 5,
   "metadata": {},
   "outputs": [
    {
     "data": {
      "text/plain": [
       "Product Type\n",
       "Jahe Merah plus Habatussauda 330gr    510000\n",
       "Jahe Merah plus Habatussauda Botol    410000\n",
       "Jahe Murni 200gr                      375000\n",
       "Jahe Merah plus Habatussauda 1kg      320000\n",
       "Jahe Merah plus Habatussauda 100gr    200000\n",
       "Kunyit Murni 50gr                     150000\n",
       "Jahe Murni 50gr                        75000\n",
       "Temulawak murni 150gr                  65000\n",
       "Temulawak Manis 330gr                  60000\n",
       "Jahe Merah plus Habatussauda Gelas     35000\n",
       "Jahe Merah plus Habatussauda gelas     15000\n",
       "Name: Harga (Rp), dtype: int64"
      ]
     },
     "execution_count": 5,
     "metadata": {},
     "output_type": "execute_result"
    }
   ],
   "source": [
    "sum_by_products= df1.groupby('Product Type')['Harga (Rp)'].sum()\n",
    "sum_by_products= sum_by_products.sort_values(ascending=False)\n",
    "sum_by_products"
   ]
  },
  {
   "cell_type": "code",
   "execution_count": 6,
   "metadata": {},
   "outputs": [],
   "source": [
    "def grouping(col1, col2):\n",
    "    if (col2=='Q'):\n",
    "        grouped_data = df1.groupby(col1)['Qty'].sum()\n",
    "    else:\n",
    "        grouped_data = df1.groupby(col1)['Harga (Rp)'].sum()\n",
    "    grouped_data=grouped_data.sort_values(ascending=False)\n",
    "    return grouped_data\n"
   ]
  },
  {
   "cell_type": "code",
   "execution_count": 7,
   "metadata": {},
   "outputs": [
    {
     "data": {
      "text/plain": [
       "Usia (Thn)\n",
       "40<      555000\n",
       "30-39    410000\n",
       "20-29    335000\n",
       "50<      315000\n",
       ">20      175000\n",
       "40-49    155000\n",
       "30<       50000\n",
       "Name: Harga (Rp), dtype: int64"
      ]
     },
     "execution_count": 7,
     "metadata": {},
     "output_type": "execute_result"
    }
   ],
   "source": [
    "productT=grouping('Usia (Thn)','H')\n",
    "productT"
   ]
  },
  {
   "cell_type": "code",
   "execution_count": 8,
   "metadata": {},
   "outputs": [
    {
     "data": {
      "text/plain": [
       "<Figure size 1000x600 with 0 Axes>"
      ]
     },
     "metadata": {},
     "output_type": "display_data"
    },
    {
     "data": {
      "image/png": "[encoded data removed]",
      "text/plain": [
       "<Figure size 640x480 with 1 Axes>"
      ]
     },
     "metadata": {},
     "output_type": "display_data"
    }
   ],
   "source": [
    "df2=df.copy()\n",
    "\n",
    "# Set 'Tanggal' column as the index\n",
    "df2.set_index('Tanggal', inplace=True)\n",
    "\n",
    "# Resample the data to daily frequency and fill missing dates with 0\n",
    "resampled_data = df2.resample('D').sum().fillna(0)\n",
    "\n",
    "resampled_data['Date']=resampled_data.index.day\n",
    "\n",
    "\n",
    "# Set RGB values for ginger and yellow\n",
    "ginger_color = '#e1621d'  # RGB for ginger\n",
    "yellow_color = '#FFDE2E'  # RGB for yellow\n",
    "\n",
    "bar_colors = [ginger_color, yellow_color]\n",
    "\n",
    "# Plot the data with specified bar colors\n",
    "plt.figure(figsize=(10, 6))\n",
    "resampled_data.plot(kind='bar', x='Date', y='Harga (Rp)', legend=False, color=bar_colors, edgecolor='black', hatch='/')\n",
    "plt.title('Penjualan per Hari')\n",
    "plt.xlabel('Hari')\n",
    "plt.ylabel('Penjualan')\n",
    "plt.show()"
   ]
  }
 ],
 "metadata": {
  "kernelspec": {
   "display_name": "Python 3",
   "language": "python",
   "name": "python3"
  },
  "language_info": {
   "codemirror_mode": {
    "name": "ipython",
    "version": 3
   },
   "file_extension": ".py",
   "mimetype": "text/x-python",
   "name": "python",
   "nbconvert_exporter": "python",
   "pygments_lexer": "ipython3",
   "version": "3.9.13"
  },
  "orig_nbformat": 4
 },
 "nbformat": 4,
 "nbformat_minor": 2
}
